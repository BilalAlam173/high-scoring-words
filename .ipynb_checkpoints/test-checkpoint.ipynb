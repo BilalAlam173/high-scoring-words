{
 "cells": [
  {
   "cell_type": "code",
   "execution_count": 19,
   "id": "dc4d47b1",
   "metadata": {
    "scrolled": true
   },
   "outputs": [],
   "source": [
    "import functools"
   ]
  },
  {
   "cell_type": "code",
   "execution_count": null,
   "id": "8e0a8b4f",
   "metadata": {},
   "outputs": [],
   "source": [
    "wordlist = ['aa', 'aah', 'aahed', 'aahing', 'aahs', 'aal', 'aalii', 'aaliis', 'aals', 'aardvark', 'aardvarks', 'aardwolf', 'aardwolves', 'aargh', 'aarrgh', 'aarrghh', 'aas', 'aasvogel', 'aasvogels', 'ab', 'aba', 'abaca', 'abacas', 'abaci', 'aback', 'abacterial', 'abacus', 'abacuses', 'abaft', 'abaka', 'abakas', 'abalone', 'abalones', 'abamp', 'abampere', 'abamperes', 'abamps', 'abandon', 'abandoned', 'abandoner', 'abandoners', 'abandoning', 'abandonment', 'abandonments', 'abandons', 'abapical', 'abas', 'abase', 'abased', 'abasedly', 'abasement', 'abasements', 'abaser', 'abasers', 'abases', 'abash', 'abashed', 'abashes', 'abashing', 'abashment', 'abashments', 'abasia', 'abasias', 'abasing', 'abatable', 'abate', 'abated', 'abatement', 'abatements', 'abater', 'abaters', 'abates', 'abating', 'abatis', 'abatises', 'abator', 'abators', 'abattis', 'abattises', 'abattoir', 'abattoirs', 'abaxial', 'abaxile', 'abba', 'abbacies', 'abbacy', 'abbas', 'abbatial', 'abbe', 'abbes', 'abbess', 'abbesses', 'abbey', 'abbeys', 'abbot', 'abbotcies', 'abbotcy', 'abbots', 'abbreviate', 'abbreviated']\n"
   ]
  },
  {
   "cell_type": "code",
   "execution_count": 13,
   "id": "f6d05213",
   "metadata": {},
   "outputs": [],
   "source": [
    "letterValues = {'a': 1, 'b': 3, 'c': 3, 'd': 2, 'e': 1, 'f': 4, 'g': 2, 'h': 4, 'i': 1, 'j': 8, 'k': 5, 'l': 1, 'm': 3, 'n': 1, 'o': 1, 'p': 3, 'q': 10, 'r': 1, 's': 1, 't': 1, 'u': 1, 'v': 4, 'w': 4, 'x': 8, 'y': 4, 'z': 10}"
   ]
  },
  {
   "cell_type": "code",
   "execution_count": 16,
   "id": "44b9c069",
   "metadata": {},
   "outputs": [
    {
     "data": {
      "text/plain": [
       "['aahed',\n",
       " 'aahing',\n",
       " 'aahs',\n",
       " 'aalii',\n",
       " 'aaliis',\n",
       " 'aals',\n",
       " 'aardvark',\n",
       " 'aardvarks',\n",
       " 'aardwolf',\n",
       " 'aardwolves',\n",
       " 'aargh',\n",
       " 'aarrgh',\n",
       " 'aarrghh',\n",
       " 'aasvogel',\n",
       " 'aasvogels',\n",
       " 'abaca',\n",
       " 'abacas',\n",
       " 'abaci',\n",
       " 'aback',\n",
       " 'abacterial',\n",
       " 'abacus',\n",
       " 'abacuses',\n",
       " 'abaft',\n",
       " 'abaka',\n",
       " 'abakas',\n",
       " 'abalone',\n",
       " 'abalones',\n",
       " 'abamp',\n",
       " 'abampere',\n",
       " 'abamperes',\n",
       " 'abamps',\n",
       " 'abandon',\n",
       " 'abandoned',\n",
       " 'abandoner',\n",
       " 'abandoners',\n",
       " 'abandoning',\n",
       " 'abandonment',\n",
       " 'abandonments',\n",
       " 'abandons',\n",
       " 'abapical',\n",
       " 'abas',\n",
       " 'abase',\n",
       " 'abased',\n",
       " 'abasedly',\n",
       " 'abasement',\n",
       " 'abasements',\n",
       " 'abaser',\n",
       " 'abasers',\n",
       " 'abases',\n",
       " 'abash',\n",
       " 'abashed',\n",
       " 'abashes',\n",
       " 'abashing',\n",
       " 'abashment',\n",
       " 'abashments',\n",
       " 'abasia',\n",
       " 'abasias',\n",
       " 'abasing',\n",
       " 'abatable',\n",
       " 'abate',\n",
       " 'abated',\n",
       " 'abatement',\n",
       " 'abatements',\n",
       " 'abater',\n",
       " 'abaters',\n",
       " 'abates',\n",
       " 'abating',\n",
       " 'abatis',\n",
       " 'abatises',\n",
       " 'abator',\n",
       " 'abators',\n",
       " 'abattis',\n",
       " 'abattises',\n",
       " 'abattoir',\n",
       " 'abattoirs',\n",
       " 'abaxial',\n",
       " 'abaxile',\n",
       " 'abba',\n",
       " 'abbacies',\n",
       " 'abbacy',\n",
       " 'abbas',\n",
       " 'abbatial',\n",
       " 'abbe',\n",
       " 'abbes',\n",
       " 'abbess',\n",
       " 'abbesses',\n",
       " 'abbey',\n",
       " 'abbeys',\n",
       " 'abbot',\n",
       " 'abbotcies',\n",
       " 'abbotcy',\n",
       " 'abbots',\n",
       " 'abbreviate',\n",
       " 'abbreviated']"
      ]
     },
     "execution_count": 16,
     "metadata": {},
     "output_type": "execute_result"
    }
   ],
   "source": [
    "list(filter(lambda x : len(x) > 3, wordlist))"
   ]
  },
  {
   "cell_type": "code",
   "execution_count": 35,
   "id": "1c8c0e64",
   "metadata": {},
   "outputs": [],
   "source": [
    "def assignValuesToWord(x):\n",
    "    charList = list(x)\n",
    "    charListWithValues = map(lambda x:letterValues[x], charList)\n",
    "    return functools.reduce(lambda a,b: a+b, charListWithValues)"
   ]
  },
  {
   "cell_type": "code",
   "execution_count": 41,
   "id": "c1df213a",
   "metadata": {},
   "outputs": [
    {
     "ename": "NameError",
     "evalue": "name 'value' is not defined",
     "output_type": "error",
     "traceback": [
      "\u001b[0;31m---------------------------------------------------------------------------\u001b[0m",
      "\u001b[0;31mNameError\u001b[0m                                 Traceback (most recent call last)",
      "\u001b[0;32m/var/folders/05/tpr8ttfd7wlbsvn53vqxyy440000gn/T/ipykernel_53358/45352013.py\u001b[0m in \u001b[0;36m<module>\u001b[0;34m\u001b[0m\n\u001b[0;32m----> 1\u001b[0;31m \u001b[0mlist\u001b[0m\u001b[0;34m(\u001b[0m\u001b[0mmap\u001b[0m\u001b[0;34m(\u001b[0m\u001b[0;32mlambda\u001b[0m \u001b[0mx\u001b[0m\u001b[0;34m:\u001b[0m \u001b[0;34m{\u001b[0m\u001b[0;34m'word'\u001b[0m\u001b[0;34m:\u001b[0m \u001b[0mx\u001b[0m\u001b[0;34m,\u001b[0m \u001b[0;34m'value'\u001b[0m\u001b[0;34m:\u001b[0m \u001b[0massignValuesToWord\u001b[0m\u001b[0;34m(\u001b[0m\u001b[0mx\u001b[0m\u001b[0;34m)\u001b[0m\u001b[0;34m}\u001b[0m\u001b[0;34m,\u001b[0m \u001b[0mwordlist\u001b[0m\u001b[0;34m)\u001b[0m\u001b[0;34m)\u001b[0m\u001b[0;34m.\u001b[0m\u001b[0msort\u001b[0m\u001b[0;34m(\u001b[0m\u001b[0mkey\u001b[0m\u001b[0;34m=\u001b[0m\u001b[0mvalue\u001b[0m\u001b[0;34m)\u001b[0m\u001b[0;34m\u001b[0m\u001b[0;34m\u001b[0m\u001b[0m\n\u001b[0m",
      "\u001b[0;31mNameError\u001b[0m: name 'value' is not defined"
     ]
    }
   ],
   "source": [
    "list(map(lambda x: {'word': x, 'value': assignValuesToWord(x)}, wordlist)).sort(key=value)"
   ]
  },
  {
   "cell_type": "code",
   "execution_count": null,
   "id": "fbb2a70f",
   "metadata": {},
   "outputs": [],
   "source": []
  },
  {
   "cell_type": "code",
   "execution_count": null,
   "id": "e9f7e30a",
   "metadata": {},
   "outputs": [],
   "source": []
  }
 ],
 "metadata": {
  "kernelspec": {
   "display_name": "Python 3 (ipykernel)",
   "language": "python",
   "name": "python3"
  },
  "language_info": {
   "codemirror_mode": {
    "name": "ipython",
    "version": 3
   },
   "file_extension": ".py",
   "mimetype": "text/x-python",
   "name": "python",
   "nbconvert_exporter": "python",
   "pygments_lexer": "ipython3",
   "version": "3.8.2"
  }
 },
 "nbformat": 4,
 "nbformat_minor": 5
}
