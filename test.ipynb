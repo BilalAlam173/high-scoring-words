{
 "cells": [
  {
   "cell_type": "code",
   "execution_count": 87,
   "id": "dc4d47b1",
   "metadata": {
    "scrolled": true
   },
   "outputs": [],
   "source": [
    "import functools\n",
    "from itertools import chain, combinations, permutations"
   ]
  },
  {
   "cell_type": "code",
   "execution_count": 98,
   "id": "1d946127",
   "metadata": {},
   "outputs": [],
   "source": [
    "wordlist = ['aa','read', 'aah', 'aahed', 'aahing', 'aahs', 'aal', 'aalii', 'aaliis', 'aals', 'aardvark', 'aardvarks', 'aardwolf', 'aardwolves', 'aargh', 'aarrgh', 'aarrghh', 'aas', 'aasvogel', 'aasvogels', 'ab', 'aba', 'abaca', 'abacas', 'abaci', 'aback', 'abacterial', 'abacus', 'abacuses', 'abaft', 'abaka', 'abakas', 'abalone', 'abalones', 'abamp', 'abampere', 'abamperes', 'abamps', 'abandon', 'abandoned', 'abandoner', 'abandoners', 'abandoning', 'abandonment', 'abandonments', 'abandons', 'abapical', 'abas', 'abase', 'abased', 'abasedly', 'abasement', 'abasements', 'abaser', 'abasers', 'abases', 'abash', 'abashed', 'abashes', 'abashing', 'abashment', 'abashments', 'abasia', 'abasias', 'abasing', 'abatable', 'abate', 'abated', 'abatement', 'abatements', 'abater', 'abaters', 'abates', 'abating', 'abatis', 'abatises', 'abator', 'abators', 'abattis', 'abattises', 'abattoir', 'abattoirs', 'abaxial', 'abaxile', 'abba', 'abbacies', 'abbacy', 'abbas', 'abbatial', 'abbe', 'abbes', 'abbess', 'abbesses', 'abbey', 'abbeys', 'abbot', 'abbotcies', 'abbotcy', 'abbots', 'abbreviate', 'abbreviated']\n"
   ]
  },
  {
   "cell_type": "code",
   "execution_count": 13,
   "id": "36e67e82",
   "metadata": {},
   "outputs": [],
   "source": [
    "letterValues = {'a': 1, 'b': 3, 'c': 3, 'd': 2, 'e': 1, 'f': 4, 'g': 2, 'h': 4, 'i': 1, 'j': 8, 'k': 5, 'l': 1, 'm': 3, 'n': 1, 'o': 1, 'p': 3, 'q': 10, 'r': 1, 's': 1, 't': 1, 'u': 1, 'v': 4, 'w': 4, 'x': 8, 'y': 4, 'z': 10}"
   ]
  },
  {
   "cell_type": "code",
   "execution_count": 16,
   "id": "7c7e0533",
   "metadata": {},
   "outputs": [
    {
     "data": {
      "text/plain": [
       "['aahed',\n",
       " 'aahing',\n",
       " 'aahs',\n",
       " 'aalii',\n",
       " 'aaliis',\n",
       " 'aals',\n",
       " 'aardvark',\n",
       " 'aardvarks',\n",
       " 'aardwolf',\n",
       " 'aardwolves',\n",
       " 'aargh',\n",
       " 'aarrgh',\n",
       " 'aarrghh',\n",
       " 'aasvogel',\n",
       " 'aasvogels',\n",
       " 'abaca',\n",
       " 'abacas',\n",
       " 'abaci',\n",
       " 'aback',\n",
       " 'abacterial',\n",
       " 'abacus',\n",
       " 'abacuses',\n",
       " 'abaft',\n",
       " 'abaka',\n",
       " 'abakas',\n",
       " 'abalone',\n",
       " 'abalones',\n",
       " 'abamp',\n",
       " 'abampere',\n",
       " 'abamperes',\n",
       " 'abamps',\n",
       " 'abandon',\n",
       " 'abandoned',\n",
       " 'abandoner',\n",
       " 'abandoners',\n",
       " 'abandoning',\n",
       " 'abandonment',\n",
       " 'abandonments',\n",
       " 'abandons',\n",
       " 'abapical',\n",
       " 'abas',\n",
       " 'abase',\n",
       " 'abased',\n",
       " 'abasedly',\n",
       " 'abasement',\n",
       " 'abasements',\n",
       " 'abaser',\n",
       " 'abasers',\n",
       " 'abases',\n",
       " 'abash',\n",
       " 'abashed',\n",
       " 'abashes',\n",
       " 'abashing',\n",
       " 'abashment',\n",
       " 'abashments',\n",
       " 'abasia',\n",
       " 'abasias',\n",
       " 'abasing',\n",
       " 'abatable',\n",
       " 'abate',\n",
       " 'abated',\n",
       " 'abatement',\n",
       " 'abatements',\n",
       " 'abater',\n",
       " 'abaters',\n",
       " 'abates',\n",
       " 'abating',\n",
       " 'abatis',\n",
       " 'abatises',\n",
       " 'abator',\n",
       " 'abators',\n",
       " 'abattis',\n",
       " 'abattises',\n",
       " 'abattoir',\n",
       " 'abattoirs',\n",
       " 'abaxial',\n",
       " 'abaxile',\n",
       " 'abba',\n",
       " 'abbacies',\n",
       " 'abbacy',\n",
       " 'abbas',\n",
       " 'abbatial',\n",
       " 'abbe',\n",
       " 'abbes',\n",
       " 'abbess',\n",
       " 'abbesses',\n",
       " 'abbey',\n",
       " 'abbeys',\n",
       " 'abbot',\n",
       " 'abbotcies',\n",
       " 'abbotcy',\n",
       " 'abbots',\n",
       " 'abbreviate',\n",
       " 'abbreviated']"
      ]
     },
     "execution_count": 16,
     "metadata": {},
     "output_type": "execute_result"
    }
   ],
   "source": [
    "list(filter(lambda x : len(x) > 3, wordlist))"
   ]
  },
  {
   "cell_type": "code",
   "execution_count": 35,
   "id": "d7b4e9a3",
   "metadata": {},
   "outputs": [],
   "source": [
    "def assignValuesToWord(x):\n",
    "    charList = list(x)\n",
    "    charListWithValues = map(lambda x:letterValues[x], charList)\n",
    "    return functools.reduce(lambda a,b: a+b, charListWithValues)"
   ]
  },
  {
   "cell_type": "code",
   "execution_count": 53,
   "id": "47c5fc41",
   "metadata": {},
   "outputs": [],
   "source": [
    "thelist = list(map(lambda x: (x, assignValuesToWord(x)), wordlist))"
   ]
  },
  {
   "cell_type": "code",
   "execution_count": 67,
   "id": "6394bb95",
   "metadata": {},
   "outputs": [],
   "source": [
    "def comparator(a, b):\n",
    "    if a[1] < b[1]:\n",
    "        return -1\n",
    "    elif a[1] > b[1]:\n",
    "        return 1\n",
    "    else:\n",
    "        return -1 if a[0] > b[0] else 1"
   ]
  },
  {
   "cell_type": "code",
   "execution_count": null,
   "id": "a3de25ea",
   "metadata": {},
   "outputs": [],
   "source": []
  },
  {
   "cell_type": "code",
   "execution_count": 68,
   "id": "8615097a",
   "metadata": {},
   "outputs": [
    {
     "data": {
      "text/plain": [
       "[('abbreviated', 19),\n",
       " ('aardvarks', 17),\n",
       " ('aardwolves', 17),\n",
       " ('abandonments', 17),\n",
       " ('abashments', 17),\n",
       " ('abbreviate', 17),\n",
       " ('aardvark', 16),\n",
       " ('abandonment', 16),\n",
       " ('abashment', 16),\n",
       " ('abaxial', 16),\n",
       " ('abaxile', 16),\n",
       " ('abbotcy', 16),\n",
       " ('aardwolf', 15),\n",
       " ('abamperes', 15),\n",
       " ('abbacy', 15),\n",
       " ('abbotcies', 15),\n",
       " ('aarrghh', 14),\n",
       " ('abacterial', 14),\n",
       " ('abampere', 14),\n",
       " ('abandoning', 14),\n",
       " ('abapical', 14),\n",
       " ('abasedly', 14),\n",
       " ('abasements', 14),\n",
       " ('abashing', 14),\n",
       " ('abatements', 14),\n",
       " ('abbacies', 14),\n",
       " ('aasvogels', 13),\n",
       " ('aback', 13),\n",
       " ('abandoned', 13),\n",
       " ('abandoners', 13),\n",
       " ('abasement', 13),\n",
       " ('abashed', 13),\n",
       " ('abatement', 13),\n",
       " ('abbeys', 13),\n",
       " ('aasvogel', 12),\n",
       " ('abacuses', 12),\n",
       " ('abakas', 12),\n",
       " ('abamps', 12),\n",
       " ('abandoner', 12),\n",
       " ('abashes', 12),\n",
       " ('abatable', 12),\n",
       " ('abbatial', 12),\n",
       " ('abbesses', 12),\n",
       " ('abbey', 12),\n",
       " ('abaka', 11),\n",
       " ('abamp', 11),\n",
       " ('abandons', 11),\n",
       " ('abattises', 11),\n",
       " ('abattoirs', 11),\n",
       " ('aahing', 10),\n",
       " ('aarrgh', 10),\n",
       " ('abacas', 10),\n",
       " ('abacus', 10),\n",
       " ('abaft', 10),\n",
       " ('abalones', 10),\n",
       " ('abandon', 10),\n",
       " ('abash', 10),\n",
       " ('abasing', 10),\n",
       " ('abating', 10),\n",
       " ('abatises', 10),\n",
       " ('abattoir', 10),\n",
       " ('abbess', 10),\n",
       " ('abbots', 10),\n",
       " ('aahed', 9),\n",
       " ('aargh', 9),\n",
       " ('abaca', 9),\n",
       " ('abaci', 9),\n",
       " ('abalone', 9),\n",
       " ('abased', 9),\n",
       " ('abasers', 9),\n",
       " ('abasias', 9),\n",
       " ('abated', 9),\n",
       " ('abaters', 9),\n",
       " ('abators', 9),\n",
       " ('abattis', 9),\n",
       " ('abbas', 9),\n",
       " ('abbes', 9),\n",
       " ('abbot', 9),\n",
       " ('abaser', 8),\n",
       " ('abases', 8),\n",
       " ('abasia', 8),\n",
       " ('abater', 8),\n",
       " ('abates', 8),\n",
       " ('abatis', 8),\n",
       " ('abator', 8),\n",
       " ('abba', 8),\n",
       " ('abbe', 8),\n",
       " ('aahs', 7),\n",
       " ('abase', 7),\n",
       " ('abate', 7),\n",
       " ('aah', 6),\n",
       " ('aaliis', 6),\n",
       " ('abas', 6),\n",
       " ('aalii', 5),\n",
       " ('aba', 5),\n",
       " ('aals', 4),\n",
       " ('ab', 4),\n",
       " ('aal', 3),\n",
       " ('aas', 3),\n",
       " ('aa', 2)]"
      ]
     },
     "execution_count": 68,
     "metadata": {},
     "output_type": "execute_result"
    }
   ],
   "source": [
    "sorted(thelist, key=functools.cmp_to_key(comparator), reverse=True)"
   ]
  },
  {
   "cell_type": "code",
   "execution_count": 69,
   "id": "e749408d",
   "metadata": {},
   "outputs": [
    {
     "data": {
      "text/plain": [
       "[('abbreviated', 19),\n",
       " ('aardvarks', 17),\n",
       " ('aardwolves', 17),\n",
       " ('abandonments', 17),\n",
       " ('abashments', 17),\n",
       " ('abbreviate', 17),\n",
       " ('aardvark', 16),\n",
       " ('abandonment', 16),\n",
       " ('abashment', 16),\n",
       " ('abaxial', 16),\n",
       " ('abaxile', 16),\n",
       " ('abbotcy', 16),\n",
       " ('aardwolf', 15),\n",
       " ('abamperes', 15),\n",
       " ('abbacy', 15),\n",
       " ('abbotcies', 15),\n",
       " ('aarrghh', 14),\n",
       " ('abacterial', 14),\n",
       " ('abampere', 14),\n",
       " ('abandoning', 14),\n",
       " ('abapical', 14),\n",
       " ('abasedly', 14),\n",
       " ('abasements', 14),\n",
       " ('abashing', 14),\n",
       " ('abatements', 14),\n",
       " ('abbacies', 14),\n",
       " ('aasvogels', 13),\n",
       " ('aback', 13),\n",
       " ('abandoned', 13),\n",
       " ('abandoners', 13),\n",
       " ('abasement', 13),\n",
       " ('abashed', 13),\n",
       " ('abatement', 13),\n",
       " ('abbeys', 13),\n",
       " ('aasvogel', 12),\n",
       " ('abacuses', 12),\n",
       " ('abakas', 12),\n",
       " ('abamps', 12),\n",
       " ('abandoner', 12),\n",
       " ('abashes', 12),\n",
       " ('abatable', 12),\n",
       " ('abbatial', 12),\n",
       " ('abbesses', 12),\n",
       " ('abbey', 12),\n",
       " ('abaka', 11),\n",
       " ('abamp', 11),\n",
       " ('abandons', 11),\n",
       " ('abattises', 11),\n",
       " ('abattoirs', 11),\n",
       " ('aahing', 10),\n",
       " ('aarrgh', 10),\n",
       " ('abacas', 10),\n",
       " ('abacus', 10),\n",
       " ('abaft', 10),\n",
       " ('abalones', 10),\n",
       " ('abandon', 10),\n",
       " ('abash', 10),\n",
       " ('abasing', 10),\n",
       " ('abating', 10),\n",
       " ('abatises', 10),\n",
       " ('abattoir', 10),\n",
       " ('abbess', 10),\n",
       " ('abbots', 10),\n",
       " ('aahed', 9),\n",
       " ('aargh', 9),\n",
       " ('abaca', 9),\n",
       " ('abaci', 9),\n",
       " ('abalone', 9),\n",
       " ('abased', 9),\n",
       " ('abasers', 9),\n",
       " ('abasias', 9),\n",
       " ('abated', 9),\n",
       " ('abaters', 9),\n",
       " ('abators', 9),\n",
       " ('abattis', 9),\n",
       " ('abbas', 9),\n",
       " ('abbes', 9),\n",
       " ('abbot', 9),\n",
       " ('abaser', 8),\n",
       " ('abases', 8),\n",
       " ('abasia', 8),\n",
       " ('abater', 8),\n",
       " ('abates', 8),\n",
       " ('abatis', 8),\n",
       " ('abator', 8),\n",
       " ('abba', 8),\n",
       " ('abbe', 8),\n",
       " ('aahs', 7),\n",
       " ('abase', 7),\n",
       " ('abate', 7),\n",
       " ('aah', 6),\n",
       " ('aaliis', 6),\n",
       " ('abas', 6),\n",
       " ('aalii', 5),\n",
       " ('aba', 5),\n",
       " ('aals', 4),\n",
       " ('ab', 4),\n",
       " ('aal', 3),\n",
       " ('aas', 3),\n",
       " ('aa', 2)]"
      ]
     },
     "execution_count": 69,
     "metadata": {},
     "output_type": "execute_result"
    }
   ],
   "source": [
    "thelist"
   ]
  },
  {
   "cell_type": "code",
   "execution_count": 52,
   "id": "eacd913e",
   "metadata": {},
   "outputs": [
    {
     "data": {
      "text/plain": [
       "['abc', 'abd']"
      ]
     },
     "execution_count": 52,
     "metadata": {},
     "output_type": "execute_result"
    }
   ],
   "source": [
    "sorted(['abd','abc'])"
   ]
  },
  {
   "cell_type": "code",
   "execution_count": 57,
   "id": "aaa1bb1c",
   "metadata": {},
   "outputs": [
    {
     "data": {
      "text/plain": [
       "True"
      ]
     },
     "execution_count": 57,
     "metadata": {},
     "output_type": "execute_result"
    }
   ],
   "source": [
    "'abd' > 'abc'"
   ]
  },
  {
   "cell_type": "code",
   "execution_count": 92,
   "id": "888d255e",
   "metadata": {},
   "outputs": [],
   "source": [
    "def superset(iterable):\n",
    "    s = list(iterable)\n",
    "    return chain.from_iterable(permutations(s, r) for r in range(len(s)+1))"
   ]
  },
  {
   "cell_type": "code",
   "execution_count": 94,
   "id": "718d6ee1",
   "metadata": {},
   "outputs": [],
   "source": [
    "possibleWordsList = list(filter(lambda x: len(x) >=3,map(''.join, superset('deora'))))"
   ]
  },
  {
   "cell_type": "code",
   "execution_count": 99,
   "id": "77d303fc",
   "metadata": {},
   "outputs": [
    {
     "data": {
      "text/plain": [
       "['read']"
      ]
     },
     "execution_count": 99,
     "metadata": {},
     "output_type": "execute_result"
    }
   ],
   "source": [
    "list(filter(lambda x: x in wordlist, possibleWordsList))"
   ]
  },
  {
   "cell_type": "code",
   "execution_count": null,
   "id": "2356fb42",
   "metadata": {},
   "outputs": [],
   "source": []
  },
  {
   "cell_type": "code",
   "execution_count": null,
   "id": "7a9de1d8",
   "metadata": {},
   "outputs": [],
   "source": []
  }
 ],
 "metadata": {
  "kernelspec": {
   "display_name": "Python 3 (ipykernel)",
   "language": "python",
   "name": "python3"
  },
  "language_info": {
   "codemirror_mode": {
    "name": "ipython",
    "version": 3
   },
   "file_extension": ".py",
   "mimetype": "text/x-python",
   "name": "python",
   "nbconvert_exporter": "python",
   "pygments_lexer": "ipython3",
   "version": "3.8.2"
  }
 },
 "nbformat": 4,
 "nbformat_minor": 5
}
